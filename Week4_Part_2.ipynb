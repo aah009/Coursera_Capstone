{
 "cells": [
  {
   "cell_type": "markdown",
   "metadata": {},
   "source": [
    "Describe the data that you will be using to solve the problem or execute your idea. Remember that you will need to use the Foursquare location data to solve the problem or execute your idea. You can absolutely use other datasets in combination with the Foursquare location data. So make sure that you provide adequate explanation and discussion, with examples, of the data that you will be using, even if it is only Foursquare location data.\n",
    "\n",
    "This submission will eventually become your Data section in your final report. So I recommend that you push the report (having your Data section) to your Github repository and submit a link to it."
   ]
  },
  {
   "cell_type": "markdown",
   "metadata": {},
   "source": [
    "The preliminary data regarding the neighborhoods in Mumbai shall be taken from Wikipedia in the following link:\n",
    "https://en.wikipedia.org/wiki/List_of_neighbourhoods_in_Mumbai\n",
    "The dataframe would contain the following columns:\n",
    "\n",
    "Area\tLocation\tLatitude\tLongitude\n",
    "\n",
    "This would give us the coordinates for different neighborhoods.\n",
    "\n",
    "In addition to this, we shall be using Foursquare API to extract information regarding the venues around each neighborhood. Each Foursquare API call shall be Limited to 100 venues, and to a radius of ~1000m around each neighborhood."
   ]
  }
 ],
 "metadata": {
  "kernelspec": {
   "display_name": "Python 2",
   "language": "python",
   "name": "python2"
  },
  "language_info": {
   "codemirror_mode": {
    "name": "ipython",
    "version": 2
   },
   "file_extension": ".py",
   "mimetype": "text/x-python",
   "name": "python",
   "nbconvert_exporter": "python",
   "pygments_lexer": "ipython2",
   "version": "2.7.16"
  }
 },
 "nbformat": 4,
 "nbformat_minor": 2
}
